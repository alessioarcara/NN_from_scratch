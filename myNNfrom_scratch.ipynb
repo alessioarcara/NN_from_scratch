{
 "cells": [
  {
   "cell_type": "code",
   "execution_count": 181,
   "id": "0c3f90cd-532c-4694-9b4c-cdacc1c75f93",
   "metadata": {
    "tags": []
   },
   "outputs": [
    {
     "name": "stdout",
     "output_type": "stream",
     "text": [
      "The autoreload extension is already loaded. To reload it, use:\n",
      "  %reload_ext autoreload\n"
     ]
    }
   ],
   "source": [
    "%load_ext autoreload\n",
    "%autoreload 2\n",
    "import numpy as np\n",
    "import keras\n",
    "import matplotlib.pyplot as plt\n",
    "from keras.utils import to_categorical\n",
    "\n",
    "(x_train, y_train), (x_test, y_test) = keras.datasets.mnist.load_data()\n",
    "x_train = x_train.astype('float32') / 255.\n",
    "x_test = x_test.astype('float32') / 255.\n",
    "x_train = x_train.reshape(60000, 28*28)\n",
    "x_test = x_test.reshape(10000, 28*28)\n",
    "y_train = to_categorical(y_train, 10)\n",
    "test_data = (x_test, y_test)"
   ]
  },
  {
   "cell_type": "raw",
   "id": "4abcaf5c-31a2-46ec-9b8c-09e34d8f2742",
   "metadata": {},
   "source": [
    "# x=(784,32)\n",
    "# a1=(28,784)x(784,32)=(28x32)\n",
    "# a2=(28,28)x(28,32)=(28x32)\n",
    "# a3=(10,28)x(28,32)=(10x32)\n",
    "\n",
    "class MaxPooling(Layer):"
   ]
  },
  {
   "cell_type": "code",
   "execution_count": 316,
   "id": "414d24e4-4b84-4dc3-a578-ccee6090ebf0",
   "metadata": {
    "tags": []
   },
   "outputs": [],
   "source": [
    "from neural_network import Network as nn\n",
    "from layers import Dense, Conv, Flatten\n",
    "\n",
    "layers = [\n",
    "    Conv(input_shape=(28, 28), kernel_shape=(5, 5), n_kernels=1),\n",
    "    #Conv(input_shape=(26, 26), kernel_shape=(3, 3), n_kernels=1),\n",
    "    Dense(576, 10),\n",
    "    Dense(10, 10, initialization=\"xavier\", activation=\"sigmoid\")\n",
    "]\n",
    "\n",
    "net = nn(layers)"
   ]
  },
  {
   "cell_type": "code",
   "execution_count": null,
   "id": "ccaf04a1-1b21-4b13-a942-a16238d936b9",
   "metadata": {},
   "outputs": [],
   "source": [
    "A = np.random.rand((1,3,3))"
   ]
  },
  {
   "cell_type": "code",
   "execution_count": 318,
   "id": "8cde2492-37f6-4ffd-afaa-b29c989954a9",
   "metadata": {
    "tags": []
   },
   "outputs": [
    {
     "name": "stderr",
     "output_type": "stream",
     "text": [
      "  0%|\u001b[32m                                     \u001b[0m| 0/1875 [00:00<?, ?it/s]\u001b[0m\n"
     ]
    },
    {
     "ename": "ValueError",
     "evalue": "shapes (10,10,32) and (32,10,10) not aligned: 32 (dim 2) != 10 (dim 1)",
     "output_type": "error",
     "traceback": [
      "\u001b[0;31m---------------------------------------------------------------------------\u001b[0m",
      "\u001b[0;31mValueError\u001b[0m                                Traceback (most recent call last)",
      "Cell \u001b[0;32mIn[318], line 1\u001b[0m\n\u001b[0;32m----> 1\u001b[0m \u001b[43mnet\u001b[49m\u001b[38;5;241;43m.\u001b[39;49m\u001b[43mfit\u001b[49m\u001b[43m(\u001b[49m\u001b[43mx_train\u001b[49m\u001b[43m,\u001b[49m\u001b[43m \u001b[49m\u001b[43my_train\u001b[49m\u001b[43m,\u001b[49m\u001b[43m \u001b[49m\u001b[38;5;241;43m10\u001b[39;49m\u001b[43m,\u001b[49m\u001b[43m \u001b[49m\u001b[38;5;241;43m0.01\u001b[39;49m\u001b[43m,\u001b[49m\u001b[43m \u001b[49m\u001b[38;5;241;43m32\u001b[39;49m\u001b[43m,\u001b[49m\u001b[43m \u001b[49m\u001b[43mtest_data\u001b[49m\u001b[43m)\u001b[49m\n",
      "File \u001b[0;32m~/Downloads/universita/AI/NN_from_scratch/neural_network.py:36\u001b[0m, in \u001b[0;36mNetwork.fit\u001b[0;34m(self, X, y, n_epochs, lr, mini_batch_size, val_data, verbose)\u001b[0m\n\u001b[1;32m     34\u001b[0m     a \u001b[38;5;241m=\u001b[39m \u001b[38;5;28mself\u001b[39m\u001b[38;5;241m.\u001b[39mforward(X_batch)\n\u001b[1;32m     35\u001b[0m     d \u001b[38;5;241m=\u001b[39m (a \u001b[38;5;241m-\u001b[39m y_batch)\n\u001b[0;32m---> 36\u001b[0m     \u001b[38;5;28;43mself\u001b[39;49m\u001b[38;5;241;43m.\u001b[39;49m\u001b[43mbackward\u001b[49m\u001b[43m(\u001b[49m\u001b[43md\u001b[49m\u001b[43m,\u001b[49m\u001b[43m \u001b[49m\u001b[43mlr\u001b[49m\u001b[43m)\u001b[49m\n\u001b[1;32m     38\u001b[0m \u001b[38;5;28mprint\u001b[39m(\u001b[38;5;124mf\u001b[39m\u001b[38;5;124m\"\u001b[39m\u001b[38;5;124mEpoch \u001b[39m\u001b[38;5;132;01m{\u001b[39;00mepoch\u001b[38;5;250m \u001b[39m\u001b[38;5;241m+\u001b[39m\u001b[38;5;250m \u001b[39m\u001b[38;5;241m1\u001b[39m\u001b[38;5;132;01m}\u001b[39;00m\u001b[38;5;124m/\u001b[39m\u001b[38;5;132;01m{\u001b[39;00mn_epochs\u001b[38;5;132;01m}\u001b[39;00m\u001b[38;5;124m\"\u001b[39m)\n\u001b[1;32m     39\u001b[0m \u001b[38;5;28;01mif\u001b[39;00m val_data:\n",
      "File \u001b[0;32m~/Downloads/universita/AI/NN_from_scratch/neural_network.py:17\u001b[0m, in \u001b[0;36mNetwork.backward\u001b[0;34m(self, d, lr)\u001b[0m\n\u001b[1;32m     15\u001b[0m \u001b[38;5;28;01mdef\u001b[39;00m \u001b[38;5;21mbackward\u001b[39m(\u001b[38;5;28mself\u001b[39m, d, lr):\n\u001b[1;32m     16\u001b[0m     \u001b[38;5;28;01mfor\u001b[39;00m layer \u001b[38;5;129;01min\u001b[39;00m \u001b[38;5;28mreversed\u001b[39m(\u001b[38;5;28mself\u001b[39m\u001b[38;5;241m.\u001b[39mlayers):\n\u001b[0;32m---> 17\u001b[0m         d \u001b[38;5;241m=\u001b[39m \u001b[43mlayer\u001b[49m\u001b[38;5;241;43m.\u001b[39;49m\u001b[43mbackward\u001b[49m\u001b[43m(\u001b[49m\u001b[43md\u001b[49m\u001b[43m,\u001b[49m\u001b[43m \u001b[49m\u001b[43mlr\u001b[49m\u001b[43m)\u001b[49m\n",
      "File \u001b[0;32m~/Downloads/universita/AI/NN_from_scratch/layers.py:42\u001b[0m, in \u001b[0;36mDense.backward\u001b[0;34m(self, d, lr)\u001b[0m\n\u001b[1;32m     40\u001b[0m m \u001b[38;5;241m=\u001b[39m d\u001b[38;5;241m.\u001b[39mshape[\u001b[38;5;241m1\u001b[39m]\n\u001b[1;32m     41\u001b[0m d \u001b[38;5;241m=\u001b[39m d \u001b[38;5;241m*\u001b[39m \u001b[38;5;28mself\u001b[39m\u001b[38;5;241m.\u001b[39mactivation_deriv(\u001b[38;5;28mself\u001b[39m\u001b[38;5;241m.\u001b[39mz)\n\u001b[0;32m---> 42\u001b[0m dw \u001b[38;5;241m=\u001b[39m \u001b[43mnp\u001b[49m\u001b[38;5;241;43m.\u001b[39;49m\u001b[43mdot\u001b[49m\u001b[43m(\u001b[49m\u001b[43md\u001b[49m\u001b[43m,\u001b[49m\u001b[43m \u001b[49m\u001b[38;5;28;43mself\u001b[39;49m\u001b[38;5;241;43m.\u001b[39;49m\u001b[43mx\u001b[49m\u001b[38;5;241;43m.\u001b[39;49m\u001b[43mT\u001b[49m\u001b[43m)\u001b[49m \u001b[38;5;241m/\u001b[39m m\n\u001b[1;32m     43\u001b[0m db \u001b[38;5;241m=\u001b[39m np\u001b[38;5;241m.\u001b[39mmean(d, axis\u001b[38;5;241m=\u001b[39m\u001b[38;5;241m1\u001b[39m, keepdims\u001b[38;5;241m=\u001b[39m\u001b[38;5;28;01mTrue\u001b[39;00m)\n\u001b[1;32m     44\u001b[0m \u001b[38;5;28mself\u001b[39m\u001b[38;5;241m.\u001b[39mw \u001b[38;5;241m-\u001b[39m\u001b[38;5;241m=\u001b[39m lr \u001b[38;5;241m*\u001b[39m dw\n",
      "\u001b[0;31mValueError\u001b[0m: shapes (10,10,32) and (32,10,10) not aligned: 32 (dim 2) != 10 (dim 1)"
     ]
    }
   ],
   "source": [
    "net.fit(x_train, y_train, 10, 0.01, 32, test_data)"
   ]
  },
  {
   "cell_type": "code",
   "execution_count": 239,
   "id": "c51eacb7-90d9-4bf2-b22d-9dd8b726c2e4",
   "metadata": {},
   "outputs": [
    {
     "data": {
      "image/png": "[encoded data removed]",
      "text/plain": [
       "<Figure size 1000x500 with 10 Axes>"
      ]
     },
     "metadata": {},
     "output_type": "display_data"
    }
   ],
   "source": [
    "num_rows = 2\n",
    "num_cols = 5\n",
    "\n",
    "fig, axes = plt.subplots(num_rows, num_cols, figsize=(10, 5))\n",
    "\n",
    "rnd_indices = np.random.randint(0, len(x_test), size=num_rows * num_cols)\n",
    "\n",
    "for i, ax in enumerate(axes.flat):\n",
    "    idx = rnd_indices[i]\n",
    "    ax.imshow(x_test[idx].reshape((28, 28)), cmap='gray')\n",
    "    ax.axis('off')\n",
    "    \n",
    "    y_true = y_test[idx]\n",
    "    y_pred = np.argmax(net.predict(x_test[idx]))\n",
    "    \n",
    "    ax.set_title(f\"True: {y_true}\\nPred: {y_pred}\", fontsize=10)\n",
    "\n",
    "plt.tight_layout()\n",
    "plt.show()"
   ]
  },
  {
   "cell_type": "code",
   "execution_count": null,
   "id": "ccd4261a-e92e-4a51-9cb2-f086e32b0f38",
   "metadata": {},
   "outputs": [],
   "source": []
  }
 ],
 "metadata": {
  "kernelspec": {
   "display_name": "Python 3 (ipykernel)",
   "language": "python",
   "name": "python3"
  },
  "language_info": {
   "codemirror_mode": {
    "name": "ipython",
    "version": 3
   },
   "file_extension": ".py",
   "mimetype": "text/x-python",
   "name": "python",
   "nbconvert_exporter": "python",
   "pygments_lexer": "ipython3",
   "version": "3.11.7"
  }
 },
 "nbformat": 4,
 "nbformat_minor": 5
}
